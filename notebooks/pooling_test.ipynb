{
 "cells": [
  {
   "cell_type": "code",
   "execution_count": 22,
   "id": "heavy-terror",
   "metadata": {
    "ExecuteTime": {
     "end_time": "2022-07-11T12:39:50.580226Z",
     "start_time": "2022-07-11T12:39:49.822339Z"
    }
   },
   "outputs": [],
   "source": [
    "import sys\n",
    "sys.path.append(\"..\")\n",
    "\n",
    "import torch\n",
    "\n",
    "%load_ext autoreload\n",
    "%autoreload 2\n",
    "from src.pooling import TemporalAttentionPooling, \\\n",
    "                        TemporalAvgPooling, \\\n",
    "                        TemporalLastPooling, \\\n",
    "                        TemporalMaxPooling"
   ]
  },
  {
   "cell_type": "code",
   "execution_count": 19,
   "id": "resident-error",
   "metadata": {
    "ExecuteTime": {
     "end_time": "2022-07-11T12:38:56.817709Z",
     "start_time": "2022-07-11T12:38:56.800703Z"
    }
   },
   "outputs": [
    {
     "data": {
      "text/plain": [
       "tensor([[[0.5474, 0.0218],\n",
       "         [0.0231, 0.4857],\n",
       "         [0.0553, 0.4392],\n",
       "         [0.1272, 0.7596],\n",
       "         [0.6558, 0.6279]],\n",
       "\n",
       "        [[0.6087, 0.7518],\n",
       "         [0.2296, 0.1966],\n",
       "         [0.3800, 0.0740],\n",
       "         [0.0797, 0.0792],\n",
       "         [0.6863, 0.0611]]])"
      ]
     },
     "execution_count": 19,
     "metadata": {},
     "output_type": "execute_result"
    }
   ],
   "source": [
    "x = torch.rand((2, 5, 2))\n",
    "x"
   ]
  },
  {
   "cell_type": "code",
   "execution_count": 102,
   "id": "single-appendix",
   "metadata": {
    "ExecuteTime": {
     "end_time": "2022-07-11T13:28:20.745502Z",
     "start_time": "2022-07-11T13:28:20.469645Z"
    }
   },
   "outputs": [
    {
     "data": {
      "text/plain": [
       "torch.Size([2, 5])"
      ]
     },
     "execution_count": 102,
     "metadata": {},
     "output_type": "execute_result"
    }
   ],
   "source": [
    "mask_a = torch.LongTensor([[1, 1, 1, 1, 0], \n",
    "                           [1, 1, 1, 0, 0]])\n",
    "mask_a.shape"
   ]
  },
  {
   "cell_type": "code",
   "execution_count": 103,
   "id": "activated-parliament",
   "metadata": {
    "ExecuteTime": {
     "end_time": "2022-07-11T13:28:20.839638Z",
     "start_time": "2022-07-11T13:28:20.772080Z"
    }
   },
   "outputs": [
    {
     "data": {
      "text/plain": [
       "tensor([[0.1272, 0.7596],\n",
       "        [0.3800, 0.0740]])"
      ]
     },
     "execution_count": 103,
     "metadata": {},
     "output_type": "execute_result"
    }
   ],
   "source": [
    "last_pooling = TemporalLastPooling()\n",
    "last_pooling(x, mask_a)"
   ]
  },
  {
   "cell_type": "code",
   "execution_count": 104,
   "id": "representative-wheel",
   "metadata": {
    "ExecuteTime": {
     "end_time": "2022-07-11T13:28:20.936711Z",
     "start_time": "2022-07-11T13:28:20.900798Z"
    }
   },
   "outputs": [
    {
     "data": {
      "text/plain": [
       "torch.Size([2, 2])"
      ]
     },
     "execution_count": 104,
     "metadata": {},
     "output_type": "execute_result"
    }
   ],
   "source": [
    "max_pooling = TemporalMaxPooling()\n",
    "max_pooling(x, mask_a).shape"
   ]
  },
  {
   "cell_type": "code",
   "execution_count": 105,
   "id": "fallen-legislature",
   "metadata": {
    "ExecuteTime": {
     "end_time": "2022-07-11T13:28:21.150949Z",
     "start_time": "2022-07-11T13:28:21.129349Z"
    }
   },
   "outputs": [
    {
     "data": {
      "text/plain": [
       "tensor([[0.1882, 0.4266],\n",
       "        [0.4061, 0.3408]])"
      ]
     },
     "execution_count": 105,
     "metadata": {},
     "output_type": "execute_result"
    }
   ],
   "source": [
    "avg_pooling = TemporalAvgPooling()\n",
    "avg_pooling(x, mask_a)"
   ]
  },
  {
   "cell_type": "code",
   "execution_count": 107,
   "id": "positive-timer",
   "metadata": {
    "ExecuteTime": {
     "end_time": "2022-07-11T13:28:21.653275Z",
     "start_time": "2022-07-11T13:28:21.634270Z"
    }
   },
   "outputs": [
    {
     "data": {
      "text/plain": [
       "tensor([[0.7530, 1.7063],\n",
       "        [1.2183, 1.0225]], grad_fn=<SqueezeBackward1>)"
      ]
     },
     "execution_count": 107,
     "metadata": {},
     "output_type": "execute_result"
    }
   ],
   "source": [
    "attn_pooling = TemporalAttentionPooling(2)\n",
    "attn_pooling(x, mask_a)"
   ]
  },
  {
   "cell_type": "code",
   "execution_count": null,
   "id": "verbal-hollow",
   "metadata": {},
   "outputs": [],
   "source": []
  }
 ],
 "metadata": {
  "kernelspec": {
   "display_name": "Python 3",
   "language": "python",
   "name": "python3"
  },
  "language_info": {
   "codemirror_mode": {
    "name": "ipython",
    "version": 3
   },
   "file_extension": ".py",
   "mimetype": "text/x-python",
   "name": "python",
   "nbconvert_exporter": "python",
   "pygments_lexer": "ipython3",
   "version": "3.8.10"
  },
  "varInspector": {
   "cols": {
    "lenName": 16,
    "lenType": 16,
    "lenVar": 40
   },
   "kernels_config": {
    "python": {
     "delete_cmd_postfix": "",
     "delete_cmd_prefix": "del ",
     "library": "var_list.py",
     "varRefreshCmd": "print(var_dic_list())"
    },
    "r": {
     "delete_cmd_postfix": ") ",
     "delete_cmd_prefix": "rm(",
     "library": "var_list.r",
     "varRefreshCmd": "cat(var_dic_list()) "
    }
   },
   "types_to_exclude": [
    "module",
    "function",
    "builtin_function_or_method",
    "instance",
    "_Feature"
   ],
   "window_display": false
  }
 },
 "nbformat": 4,
 "nbformat_minor": 5
}
