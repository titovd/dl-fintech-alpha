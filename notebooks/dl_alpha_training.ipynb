{
  "nbformat": 4,
  "nbformat_minor": 0,
  "metadata": {
    "colab": {
      "name": "dl_alpha_training.ipynb",
      "provenance": [],
      "collapsed_sections": []
    },
    "kernelspec": {
      "name": "python3",
      "display_name": "Python 3"
    },
    "language_info": {
      "name": "python"
    },
    "accelerator": "GPU",
    "gpuClass": "standard"
  },
  "cells": [
    {
      "cell_type": "code",
      "execution_count": null,
      "metadata": {
        "id": "T4HCzFs1rdgs"
      },
      "outputs": [],
      "source": [
        "!pip install -q hydra-core\n",
        "!pip install wandb"
      ]
    },
    {
      "cell_type": "code",
      "source": [
        "import wandb\n",
        "wandb.login()"
      ],
      "metadata": {
        "id": "PjfZB9r0riHl"
      },
      "execution_count": null,
      "outputs": []
    },
    {
      "cell_type": "code",
      "source": [
        "from google.colab import drive\n",
        "drive.mount('/content/drive')"
      ],
      "metadata": {
        "colab": {
          "base_uri": "https://localhost:8080/"
        },
        "id": "uKqN85_Hs7BY",
        "outputId": "3f62bdd5-1da4-4f3d-9953-7f7d3d4e3f99"
      },
      "execution_count": 4,
      "outputs": [
        {
          "output_type": "stream",
          "name": "stdout",
          "text": [
            "Mounted at /content/drive\n"
          ]
        }
      ]
    },
    {
      "cell_type": "code",
      "source": [
        "!mkdir ./data/\n",
        "!rsync -r --verbose --exclude 'checkpoints' --exclude \"time-series-validation\" --exclude \"kfold-validation\" /content/drive/MyDrive/ml/dl-alpha-competition/* ./data/."
      ],
      "metadata": {
        "colab": {
          "base_uri": "https://localhost:8080/"
        },
        "id": "-5-hlqVatH2g",
        "outputId": "52618ab2-a18a-4f83-9279-14afcee7437a"
      },
      "execution_count": 5,
      "outputs": [
        {
          "output_type": "stream",
          "name": "stdout",
          "text": [
            "sending incremental file list\n",
            "description.xlsx\n",
            "sample_submission.csv\n",
            "test_data.zip\n",
            "test_target.csv\n",
            "train_data.zip\n",
            "train_target.csv\n",
            "\n",
            "sent 424,243,095 bytes  received 130 bytes  56,565,763.33 bytes/sec\n",
            "total size is 424,139,143  speedup is 1.00\n"
          ]
        }
      ]
    },
    {
      "cell_type": "code",
      "source": [
        "!python3 dl-fintech-alpha/src/train_model.py -cd dl-fintech-alpha/config/model --config-name=advanced_lstm"
      ],
      "metadata": {
        "id": "cKu-5AVy0wZg"
      },
      "execution_count": null,
      "outputs": []
    },
    {
      "cell_type": "code",
      "source": [
        "!python3 dl-fintech-alpha/src/predict_model.py -cd dl-fintech-alpha/config/model --config-name=advanced_lstm"
      ],
      "metadata": {
        "id": "wl-b75-gcN1p"
      },
      "execution_count": null,
      "outputs": []
    },
    {
      "cell_type": "code",
      "source": [
        "!python3 dl-fintech-alpha/src/predict_ensemble.py"
      ],
      "metadata": {
        "id": "ZicUVo3mvSGK"
      },
      "execution_count": null,
      "outputs": []
    }
  ]
}